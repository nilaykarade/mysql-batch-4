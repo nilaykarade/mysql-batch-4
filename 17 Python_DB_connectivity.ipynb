{
 "cells": [
  {
   "cell_type": "code",
   "execution_count": 1,
   "id": "05c16729",
   "metadata": {
    "collapsed": true
   },
   "outputs": [
    {
     "name": "stdout",
     "output_type": "stream",
     "text": [
      "Requirement already satisfied: mysql-connector-python in c:\\users\\nilay\\anaconda3\\lib\\site-packages (8.0.30)\n",
      "Requirement already satisfied: protobuf<=3.20.1,>=3.11.0 in c:\\users\\nilay\\anaconda3\\lib\\site-packages (from mysql-connector-python) (3.20.1)\n"
     ]
    }
   ],
   "source": [
    "!pip install mysql-connector-python"
   ]
  },
  {
   "cell_type": "code",
   "execution_count": 1,
   "id": "13775af3",
   "metadata": {},
   "outputs": [
    {
     "name": "stdout",
     "output_type": "stream",
     "text": [
      "<mysql.connector.connection_cext.CMySQLConnection object at 0x000001A5A929EA60>\n"
     ]
    }
   ],
   "source": [
    "import mysql.connector\n",
    "\n",
    "connection = mysql.connector.connect(\n",
    "  host =\"localhost\",\n",
    "  user =\"root\",\n",
    "  passwd =\"root\",\n",
    "  database=\"ecom_db\"\n",
    ")\n",
    " \n",
    "print(connection)"
   ]
  },
  {
   "cell_type": "code",
   "execution_count": 29,
   "id": "ca1ad81e",
   "metadata": {},
   "outputs": [
    {
     "data": {
      "text/plain": [
       "mysql.connector.connection_cext.CMySQLConnection"
      ]
     },
     "execution_count": 29,
     "metadata": {},
     "output_type": "execute_result"
    }
   ],
   "source": [
    "type(connection)"
   ]
  },
  {
   "cell_type": "code",
   "execution_count": 2,
   "id": "1b9f0571",
   "metadata": {},
   "outputs": [],
   "source": [
    "cursor_obj = connection.cursor()\n",
    "\n",
    "query = \"select * from customers;\"\n",
    "cursor_obj.execute(query)\n",
    "   \n",
    "myresult = cursor_obj.fetchall()"
   ]
  },
  {
   "cell_type": "code",
   "execution_count": 13,
   "id": "06d1b8dd",
   "metadata": {
    "collapsed": true
   },
   "outputs": [
    {
     "data": {
      "text/plain": [
       "[(1,\n",
       "  'Nilay',\n",
       "  'nilay@gmail.com',\n",
       "  '9999999999',\n",
       "  'nilay123',\n",
       "  'Lagos',\n",
       "  datetime.date(2019, 8, 15),\n",
       "  0),\n",
       " (2,\n",
       "  'Joshua',\n",
       "  'joshua@gmail.com',\n",
       "  '1999999999',\n",
       "  'joshua123',\n",
       "  'Johannesburg',\n",
       "  datetime.date(2020, 9, 15),\n",
       "  1),\n",
       " (3,\n",
       "  'Thinus',\n",
       "  'Thinus@gmail.com',\n",
       "  '2999999999',\n",
       "  'Thinus123',\n",
       "  'Johannesburg',\n",
       "  datetime.date(2021, 9, 15),\n",
       "  1),\n",
       " (4,\n",
       "  'Xaba',\n",
       "  'Xaba@gmail.com',\n",
       "  '3999999999',\n",
       "  'Xaba123',\n",
       "  'Adda',\n",
       "  datetime.date(2021, 9, 26),\n",
       "  0),\n",
       " (5,\n",
       "  'Thebe',\n",
       "  'Thebe@gmail.com',\n",
       "  '4999999999',\n",
       "  'Thebe123',\n",
       "  'Adda',\n",
       "  datetime.date(2020, 6, 25),\n",
       "  1),\n",
       " (6,\n",
       "  'Dominic',\n",
       "  'Dominic@gmail.com',\n",
       "  '5999999999',\n",
       "  'Dominic123',\n",
       "  'Aberdeen',\n",
       "  datetime.date(2021, 9, 5),\n",
       "  1),\n",
       " (7,\n",
       "  'Joel',\n",
       "  'Joel@gmail.com',\n",
       "  '6999999999',\n",
       "  'Joel123',\n",
       "  'Abuja',\n",
       "  datetime.date(2021, 8, 25),\n",
       "  0),\n",
       " (8,\n",
       "  'Tayor',\n",
       "  'Tayor@gmail.com',\n",
       "  '7999999999',\n",
       "  'Tayor123',\n",
       "  'Abuja',\n",
       "  datetime.date(2021, 9, 15),\n",
       "  0),\n",
       " (9,\n",
       "  'Micheal',\n",
       "  'Micheal@gmail.com',\n",
       "  '8999999999',\n",
       "  'Micheal123',\n",
       "  'Abuja',\n",
       "  datetime.date(2021, 9, 15),\n",
       "  0),\n",
       " (10,\n",
       "  'Safeeyah',\n",
       "  'safeeyah@gmail.com',\n",
       "  '6999999999',\n",
       "  'safi123',\n",
       "  'Johannesburg',\n",
       "  datetime.date(2019, 12, 25),\n",
       "  1),\n",
       " (11,\n",
       "  'Norman',\n",
       "  'norman@gmail.com',\n",
       "  '6699999999',\n",
       "  'nor123',\n",
       "  'Durban',\n",
       "  datetime.date(2019, 12, 15),\n",
       "  1),\n",
       " (12,\n",
       "  'Ruhlani',\n",
       "  'ruhlani@gmail.com',\n",
       "  '6599999999',\n",
       "  'ruh123',\n",
       "  'Lagos',\n",
       "  datetime.date(2017, 12, 25),\n",
       "  1),\n",
       " (13,\n",
       "  'Hulisani',\n",
       "  'hulisani@gmail.com',\n",
       "  '6999999922',\n",
       "  'Hul123',\n",
       "  'Durban',\n",
       "  datetime.date(2017, 1, 25),\n",
       "  0),\n",
       " (14,\n",
       "  'Marshal',\n",
       "  'marshal@gmail.com',\n",
       "  '6679999999',\n",
       "  'Mar123',\n",
       "  'Johannesburg',\n",
       "  datetime.date(2019, 12, 22),\n",
       "  1),\n",
       " (15,\n",
       "  'Precious',\n",
       "  'precious@gmail.com',\n",
       "  '6577999999',\n",
       "  'Pre123',\n",
       "  'Abuja',\n",
       "  datetime.date(2017, 12, 25),\n",
       "  1)]"
      ]
     },
     "execution_count": 13,
     "metadata": {},
     "output_type": "execute_result"
    }
   ],
   "source": [
    "myresult"
   ]
  },
  {
   "cell_type": "code",
   "execution_count": 11,
   "id": "193fbd05",
   "metadata": {},
   "outputs": [
    {
     "name": "stdout",
     "output_type": "stream",
     "text": [
      "Nilay lives in  Lagos\n",
      "Joshua lives in  Johannesburg\n",
      "Thinus lives in  Johannesburg\n"
     ]
    }
   ],
   "source": [
    "print(myresult[0][1], \"lives in \",myresult[0][5])\n",
    "print(myresult[1][1], \"lives in \",myresult[1][5])\n",
    "print(myresult[2][1], \"lives in \",myresult[2][5])"
   ]
  },
  {
   "cell_type": "code",
   "execution_count": 4,
   "id": "bc48d45d",
   "metadata": {},
   "outputs": [
    {
     "data": {
      "text/plain": [
       "list"
      ]
     },
     "execution_count": 4,
     "metadata": {},
     "output_type": "execute_result"
    }
   ],
   "source": [
    "type(myresult)"
   ]
  },
  {
   "cell_type": "code",
   "execution_count": 12,
   "id": "1d4d2ea5",
   "metadata": {
    "scrolled": true
   },
   "outputs": [
    {
     "name": "stdout",
     "output_type": "stream",
     "text": [
      "Nilay  lives in  Lagos\n",
      "Joshua  lives in  Johannesburg\n",
      "Thinus  lives in  Johannesburg\n",
      "Xaba  lives in  Adda\n",
      "Thebe  lives in  Adda\n",
      "Dominic  lives in  Aberdeen\n",
      "Joel  lives in  Abuja\n",
      "Tayor  lives in  Abuja\n",
      "Micheal  lives in  Abuja\n",
      "Safeeyah  lives in  Johannesburg\n",
      "Norman  lives in  Durban\n",
      "Ruhlani  lives in  Lagos\n",
      "Hulisani  lives in  Durban\n",
      "Marshal  lives in  Johannesburg\n",
      "Precious  lives in  Abuja\n"
     ]
    }
   ],
   "source": [
    "for x in myresult:\n",
    "    print(x[1],\" lives in \",x[5])"
   ]
  },
  {
   "cell_type": "code",
   "execution_count": 32,
   "id": "4ab98e35",
   "metadata": {},
   "outputs": [],
   "source": [
    "# disconnecting from server\n",
    "connection.close()"
   ]
  },
  {
   "cell_type": "code",
   "execution_count": 33,
   "id": "24422def",
   "metadata": {
    "collapsed": true
   },
   "outputs": [
    {
     "name": "stdout",
     "output_type": "stream",
     "text": [
      "Connected to MySQL Server version  8.0.30\n",
      "You're connected to database:  ('ecommerce_db',)\n",
      "('Samson',)\n",
      "('Paul',)\n",
      "('Kashmira',)\n",
      "('Cynthiya',)\n",
      "('Liam',)\n",
      "('Cynthiya',)\n",
      "MySQL connection is closed\n"
     ]
    }
   ],
   "source": [
    "import mysql.connector\n",
    "from mysql.connector import Error\n",
    "\n",
    "try:\n",
    "    connection = mysql.connector.connect(host='localhost',\n",
    "                                         database='ecommerce_db',\n",
    "                                         user='root',\n",
    "                                         password='root')\n",
    "    if connection.is_connected():\n",
    "        db_Info = connection.get_server_info()\n",
    "        print(\"Connected to MySQL Server version \", db_Info)\n",
    "        cursor = connection.cursor()\n",
    "        cursor.execute(\"select database();\")\n",
    "        record = cursor.fetchone()\n",
    "        print(\"You're connected to database: \", record)\n",
    "        \n",
    "\n",
    "        query = \"select customer_name from ecommerce_customer;\"\n",
    "        cursor.execute(query)\n",
    "\n",
    "        myresult = cursor.fetchall()\n",
    "        \n",
    "        for x in myresult:\n",
    "            print(x)\n",
    "\n",
    "\n",
    "except Error as e:\n",
    "    print(\"Error while connecting to MySQL\", e)\n",
    "finally:\n",
    "    if connection.is_connected():\n",
    "        cursor.close()\n",
    "        connection.close()\n",
    "        print(\"MySQL connection is closed\")"
   ]
  }
 ],
 "metadata": {
  "kernelspec": {
   "display_name": "Python 3 (ipykernel)",
   "language": "python",
   "name": "python3"
  },
  "language_info": {
   "codemirror_mode": {
    "name": "ipython",
    "version": 3
   },
   "file_extension": ".py",
   "mimetype": "text/x-python",
   "name": "python",
   "nbconvert_exporter": "python",
   "pygments_lexer": "ipython3",
   "version": "3.9.7"
  }
 },
 "nbformat": 4,
 "nbformat_minor": 5
}
